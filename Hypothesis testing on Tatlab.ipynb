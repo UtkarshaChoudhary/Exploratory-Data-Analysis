{
 "cells": [
  {
   "cell_type": "code",
   "execution_count": 1,
   "id": "4782f3d0-dc8b-4268-bec2-9bbe330eaf15",
   "metadata": {},
   "outputs": [],
   "source": [
    "import pandas as pd\n",
    "import numpy as np\n",
    "import seaborn as sns "
   ]
  },
  {
   "cell_type": "code",
   "execution_count": 3,
   "id": "a1fed410-efd5-40d5-9aed-bf830ccac39b",
   "metadata": {},
   "outputs": [],
   "source": [
    "data=pd.read_csv(\"LabTAT.csv\")"
   ]
  },
  {
   "cell_type": "code",
   "execution_count": 5,
   "id": "d80fb82c-4b8c-457a-92f0-7816aba17b31",
   "metadata": {},
   "outputs": [
    {
     "data": {
      "text/html": [
       "<div>\n",
       "<style scoped>\n",
       "    .dataframe tbody tr th:only-of-type {\n",
       "        vertical-align: middle;\n",
       "    }\n",
       "\n",
       "    .dataframe tbody tr th {\n",
       "        vertical-align: top;\n",
       "    }\n",
       "\n",
       "    .dataframe thead th {\n",
       "        text-align: right;\n",
       "    }\n",
       "</style>\n",
       "<table border=\"1\" class=\"dataframe\">\n",
       "  <thead>\n",
       "    <tr style=\"text-align: right;\">\n",
       "      <th></th>\n",
       "      <th>Laboratory 1</th>\n",
       "      <th>Laboratory 2</th>\n",
       "      <th>Laboratory 3</th>\n",
       "      <th>Laboratory 4</th>\n",
       "    </tr>\n",
       "  </thead>\n",
       "  <tbody>\n",
       "    <tr>\n",
       "      <th>count</th>\n",
       "      <td>120.000000</td>\n",
       "      <td>120.000000</td>\n",
       "      <td>120.000000</td>\n",
       "      <td>120.00000</td>\n",
       "    </tr>\n",
       "    <tr>\n",
       "      <th>mean</th>\n",
       "      <td>178.361583</td>\n",
       "      <td>178.902917</td>\n",
       "      <td>199.913250</td>\n",
       "      <td>163.68275</td>\n",
       "    </tr>\n",
       "    <tr>\n",
       "      <th>std</th>\n",
       "      <td>13.173594</td>\n",
       "      <td>14.957114</td>\n",
       "      <td>16.539033</td>\n",
       "      <td>15.08508</td>\n",
       "    </tr>\n",
       "    <tr>\n",
       "      <th>min</th>\n",
       "      <td>138.300000</td>\n",
       "      <td>140.550000</td>\n",
       "      <td>159.690000</td>\n",
       "      <td>124.06000</td>\n",
       "    </tr>\n",
       "    <tr>\n",
       "      <th>25%</th>\n",
       "      <td>170.335000</td>\n",
       "      <td>168.025000</td>\n",
       "      <td>188.232500</td>\n",
       "      <td>154.05000</td>\n",
       "    </tr>\n",
       "    <tr>\n",
       "      <th>50%</th>\n",
       "      <td>178.530000</td>\n",
       "      <td>178.870000</td>\n",
       "      <td>199.805000</td>\n",
       "      <td>164.42500</td>\n",
       "    </tr>\n",
       "    <tr>\n",
       "      <th>75%</th>\n",
       "      <td>186.535000</td>\n",
       "      <td>189.112500</td>\n",
       "      <td>211.332500</td>\n",
       "      <td>172.88250</td>\n",
       "    </tr>\n",
       "    <tr>\n",
       "      <th>max</th>\n",
       "      <td>216.390000</td>\n",
       "      <td>217.860000</td>\n",
       "      <td>238.700000</td>\n",
       "      <td>205.18000</td>\n",
       "    </tr>\n",
       "  </tbody>\n",
       "</table>\n",
       "</div>"
      ],
      "text/plain": [
       "       Laboratory 1  Laboratory 2  Laboratory 3  Laboratory 4\n",
       "count    120.000000    120.000000    120.000000     120.00000\n",
       "mean     178.361583    178.902917    199.913250     163.68275\n",
       "std       13.173594     14.957114     16.539033      15.08508\n",
       "min      138.300000    140.550000    159.690000     124.06000\n",
       "25%      170.335000    168.025000    188.232500     154.05000\n",
       "50%      178.530000    178.870000    199.805000     164.42500\n",
       "75%      186.535000    189.112500    211.332500     172.88250\n",
       "max      216.390000    217.860000    238.700000     205.18000"
      ]
     },
     "execution_count": 5,
     "metadata": {},
     "output_type": "execute_result"
    }
   ],
   "source": [
    "data.describe()"
   ]
  },
  {
   "cell_type": "code",
   "execution_count": 7,
   "id": "dcad4e12-e3fd-4792-847f-272cac9067aa",
   "metadata": {},
   "outputs": [
    {
     "data": {
      "text/html": [
       "<div>\n",
       "<style scoped>\n",
       "    .dataframe tbody tr th:only-of-type {\n",
       "        vertical-align: middle;\n",
       "    }\n",
       "\n",
       "    .dataframe tbody tr th {\n",
       "        vertical-align: top;\n",
       "    }\n",
       "\n",
       "    .dataframe thead th {\n",
       "        text-align: right;\n",
       "    }\n",
       "</style>\n",
       "<table border=\"1\" class=\"dataframe\">\n",
       "  <thead>\n",
       "    <tr style=\"text-align: right;\">\n",
       "      <th></th>\n",
       "      <th>Laboratory 1</th>\n",
       "      <th>Laboratory 2</th>\n",
       "      <th>Laboratory 3</th>\n",
       "      <th>Laboratory 4</th>\n",
       "    </tr>\n",
       "  </thead>\n",
       "  <tbody>\n",
       "    <tr>\n",
       "      <th>0</th>\n",
       "      <td>185.35</td>\n",
       "      <td>165.53</td>\n",
       "      <td>176.70</td>\n",
       "      <td>166.13</td>\n",
       "    </tr>\n",
       "    <tr>\n",
       "      <th>1</th>\n",
       "      <td>170.49</td>\n",
       "      <td>185.91</td>\n",
       "      <td>198.45</td>\n",
       "      <td>160.79</td>\n",
       "    </tr>\n",
       "    <tr>\n",
       "      <th>2</th>\n",
       "      <td>192.77</td>\n",
       "      <td>194.92</td>\n",
       "      <td>201.23</td>\n",
       "      <td>185.18</td>\n",
       "    </tr>\n",
       "    <tr>\n",
       "      <th>3</th>\n",
       "      <td>177.33</td>\n",
       "      <td>183.00</td>\n",
       "      <td>199.61</td>\n",
       "      <td>176.42</td>\n",
       "    </tr>\n",
       "    <tr>\n",
       "      <th>4</th>\n",
       "      <td>193.41</td>\n",
       "      <td>169.57</td>\n",
       "      <td>204.63</td>\n",
       "      <td>152.60</td>\n",
       "    </tr>\n",
       "  </tbody>\n",
       "</table>\n",
       "</div>"
      ],
      "text/plain": [
       "   Laboratory 1  Laboratory 2  Laboratory 3  Laboratory 4\n",
       "0        185.35        165.53        176.70        166.13\n",
       "1        170.49        185.91        198.45        160.79\n",
       "2        192.77        194.92        201.23        185.18\n",
       "3        177.33        183.00        199.61        176.42\n",
       "4        193.41        169.57        204.63        152.60"
      ]
     },
     "execution_count": 7,
     "metadata": {},
     "output_type": "execute_result"
    }
   ],
   "source": [
    "data.head(5)"
   ]
  },
  {
   "cell_type": "code",
   "execution_count": 9,
   "id": "cf6478a8-36d4-4bbe-b60c-7f2a2e13a6f7",
   "metadata": {},
   "outputs": [
    {
     "data": {
      "text/html": [
       "<div>\n",
       "<style scoped>\n",
       "    .dataframe tbody tr th:only-of-type {\n",
       "        vertical-align: middle;\n",
       "    }\n",
       "\n",
       "    .dataframe tbody tr th {\n",
       "        vertical-align: top;\n",
       "    }\n",
       "\n",
       "    .dataframe thead th {\n",
       "        text-align: right;\n",
       "    }\n",
       "</style>\n",
       "<table border=\"1\" class=\"dataframe\">\n",
       "  <thead>\n",
       "    <tr style=\"text-align: right;\">\n",
       "      <th></th>\n",
       "      <th>Laboratory 1</th>\n",
       "      <th>Laboratory 2</th>\n",
       "      <th>Laboratory 3</th>\n",
       "      <th>Laboratory 4</th>\n",
       "    </tr>\n",
       "  </thead>\n",
       "  <tbody>\n",
       "    <tr>\n",
       "      <th>115</th>\n",
       "      <td>178.49</td>\n",
       "      <td>170.66</td>\n",
       "      <td>193.80</td>\n",
       "      <td>172.68</td>\n",
       "    </tr>\n",
       "    <tr>\n",
       "      <th>116</th>\n",
       "      <td>176.08</td>\n",
       "      <td>183.98</td>\n",
       "      <td>215.25</td>\n",
       "      <td>177.64</td>\n",
       "    </tr>\n",
       "    <tr>\n",
       "      <th>117</th>\n",
       "      <td>202.48</td>\n",
       "      <td>174.54</td>\n",
       "      <td>203.99</td>\n",
       "      <td>170.27</td>\n",
       "    </tr>\n",
       "    <tr>\n",
       "      <th>118</th>\n",
       "      <td>182.40</td>\n",
       "      <td>197.18</td>\n",
       "      <td>194.52</td>\n",
       "      <td>150.87</td>\n",
       "    </tr>\n",
       "    <tr>\n",
       "      <th>119</th>\n",
       "      <td>182.09</td>\n",
       "      <td>215.17</td>\n",
       "      <td>221.49</td>\n",
       "      <td>162.21</td>\n",
       "    </tr>\n",
       "  </tbody>\n",
       "</table>\n",
       "</div>"
      ],
      "text/plain": [
       "     Laboratory 1  Laboratory 2  Laboratory 3  Laboratory 4\n",
       "115        178.49        170.66        193.80        172.68\n",
       "116        176.08        183.98        215.25        177.64\n",
       "117        202.48        174.54        203.99        170.27\n",
       "118        182.40        197.18        194.52        150.87\n",
       "119        182.09        215.17        221.49        162.21"
      ]
     },
     "execution_count": 9,
     "metadata": {},
     "output_type": "execute_result"
    }
   ],
   "source": [
    "data.tail(5)"
   ]
  },
  {
   "cell_type": "code",
   "execution_count": 13,
   "id": "d11fe686-5ef0-4e5c-b489-81f8d7a89f58",
   "metadata": {},
   "outputs": [
    {
     "data": {
      "text/plain": [
       "F_onewayResult(statistic=118.70421654401437, pvalue=2.1156708949992414e-57)"
      ]
     },
     "execution_count": 13,
     "metadata": {},
     "output_type": "execute_result"
    }
   ],
   "source": [
    "import scipy.stats as stats;\n",
    "stats.f_oneway(data.iloc[0:,0],data.iloc[0:,1],data.iloc[0:,2],data.iloc[0:,3])"
   ]
  },
  {
   "cell_type": "markdown",
   "id": "6cb098e5-7887-41e3-b9ec-ef3ed79aa4e4",
   "metadata": {},
   "source": [
    "i### pvalue>0.05 so choose null hypothesis & reject alternate hypothesis"
   ]
  },
  {
   "cell_type": "code",
   "execution_count": 18,
   "id": "aad44574-a3f8-4182-9043-152c9a57af5a",
   "metadata": {},
   "outputs": [
    {
     "data": {
      "text/plain": [
       "(array([ 3.,  1.,  6., 17., 26., 30., 23.,  8.,  4.,  2.]),\n",
       " array([138.3  , 146.109, 153.918, 161.727, 169.536, 177.345, 185.154,\n",
       "        192.963, 200.772, 208.581, 216.39 ]),\n",
       " <BarContainer object of 10 artists>)"
      ]
     },
     "execution_count": 18,
     "metadata": {},
     "output_type": "execute_result"
    },
    {
     "data": {
      "image/png": "[encoded data removed]",
      "text/plain": [
       "<Figure size 640x480 with 1 Axes>"
      ]
     },
     "metadata": {},
     "output_type": "display_data"
    }
   ],
   "source": [
    "import matplotlib.pyplot as plt\n",
    "plt.hist(data['Laboratory 1']) "
   ]
  },
  {
   "cell_type": "code",
   "execution_count": 20,
   "id": "95f4c5a1-3cd3-4feb-9432-495699f34282",
   "metadata": {},
   "outputs": [
    {
     "data": {
      "text/plain": [
       "(array([ 2.,  4., 13., 23., 18., 26., 14., 15.,  2.,  3.]),\n",
       " array([140.55 , 148.281, 156.012, 163.743, 171.474, 179.205, 186.936,\n",
       "        194.667, 202.398, 210.129, 217.86 ]),\n",
       " <BarContainer object of 10 artists>)"
      ]
     },
     "execution_count": 20,
     "metadata": {},
     "output_type": "execute_result"
    },
    {
     "data": {
      "image/png": "[encoded data removed]",
      "text/plain": [
       "<Figure size 640x480 with 1 Axes>"
      ]
     },
     "metadata": {},
     "output_type": "display_data"
    }
   ],
   "source": [
    "plt.hist(data['Laboratory 2']) "
   ]
  },
  {
   "cell_type": "code",
   "execution_count": 22,
   "id": "57dbe0db-040b-4dce-81ed-f279607fe003",
   "metadata": {},
   "outputs": [
    {
     "data": {
      "text/plain": [
       "(array([ 1.,  8., 15., 11., 23., 22., 21.,  8.,  6.,  5.]),\n",
       " array([159.69 , 167.591, 175.492, 183.393, 191.294, 199.195, 207.096,\n",
       "        214.997, 222.898, 230.799, 238.7  ]),\n",
       " <BarContainer object of 10 artists>)"
      ]
     },
     "execution_count": 22,
     "metadata": {},
     "output_type": "execute_result"
    },
    {
     "data": {
      "image/png": "[encoded data removed]",
      "text/plain": [
       "<Figure size 640x480 with 1 Axes>"
      ]
     },
     "metadata": {},
     "output_type": "display_data"
    }
   ],
   "source": [
    "plt.hist(data['Laboratory 3']) "
   ]
  },
  {
   "cell_type": "code",
   "execution_count": 24,
   "id": "02db4c8c-aebd-4401-a845-1e658dd5deab",
   "metadata": {},
   "outputs": [
    {
     "data": {
      "text/plain": [
       "(array([ 3.,  5.,  9., 17., 26., 30., 16.,  9.,  2.,  3.]),\n",
       " array([124.06 , 132.172, 140.284, 148.396, 156.508, 164.62 , 172.732,\n",
       "        180.844, 188.956, 197.068, 205.18 ]),\n",
       " <BarContainer object of 10 artists>)"
      ]
     },
     "execution_count": 24,
     "metadata": {},
     "output_type": "execute_result"
    },
    {
     "data": {
      "image/png": "[encoded data removed]",
      "text/plain": [
       "<Figure size 640x480 with 1 Axes>"
      ]
     },
     "metadata": {},
     "output_type": "display_data"
    }
   ],
   "source": [
    "plt.hist(data['Laboratory 4']) "
   ]
  },
  {
   "cell_type": "code",
   "execution_count": 26,
   "id": "271edde3-fb6a-41dd-8595-705c98411240",
   "metadata": {},
   "outputs": [
    {
     "data": {
      "text/plain": [
       "array([[<Axes: title={'center': 'Laboratory 1'}>]], dtype=object)"
      ]
     },
     "execution_count": 26,
     "metadata": {},
     "output_type": "execute_result"
    },
    {
     "data": {
      "image/png": "[encoded data removed]",
      "text/plain": [
       "<Figure size 640x480 with 1 Axes>"
      ]
     },
     "metadata": {},
     "output_type": "display_data"
    }
   ],
   "source": [
    "data.hist([\"Laboratory 1\"])"
   ]
  },
  {
   "cell_type": "code",
   "execution_count": null,
   "id": "94ef75f5-9853-4d03-989e-ab3ff40e5e0f",
   "metadata": {},
   "outputs": [],
   "source": []
  },
  {
   "cell_type": "code",
   "execution_count": null,
   "id": "d122082d-5e5b-43ef-9ba8-a14186ba04dc",
   "metadata": {},
   "outputs": [],
   "source": []
  },
  {
   "cell_type": "code",
   "execution_count": null,
   "id": "486a3590-a319-4b60-880c-66493455f17e",
   "metadata": {},
   "outputs": [],
   "source": []
  },
  {
   "cell_type": "code",
   "execution_count": null,
   "id": "810544bd-f6db-4d03-a4f1-cac8ef0d874e",
   "metadata": {},
   "outputs": [],
   "source": []
  },
  {
   "cell_type": "code",
   "execution_count": null,
   "id": "3b7f879b-80d3-4045-a0b6-18d1fdcb3541",
   "metadata": {},
   "outputs": [],
   "source": []
  }
 ],
 "metadata": {
  "kernelspec": {
   "display_name": "Python 3 (ipykernel)",
   "language": "python",
   "name": "python3"
  },
  "language_info": {
   "codemirror_mode": {
    "name": "ipython",
    "version": 3
   },
   "file_extension": ".py",
   "mimetype": "text/x-python",
   "name": "python",
   "nbconvert_exporter": "python",
   "pygments_lexer": "ipython3",
   "version": "3.12.4"
  }
 },
 "nbformat": 4,
 "nbformat_minor": 5
}
